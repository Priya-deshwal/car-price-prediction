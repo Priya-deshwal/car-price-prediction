{
  "nbformat": 4,
  "nbformat_minor": 0,
  "metadata": {
    "colab": {
      "name": "210771_Priya.ipynb",
      "provenance": [],
      "collapsed_sections": []
    },
    "kernelspec": {
      "name": "python3",
      "display_name": "Python 3"
    },
    "language_info": {
      "name": "python"
    }
  },
  "cells": [
    {
      "cell_type": "code",
      "execution_count": 1,
      "metadata": {
        "colab": {
          "resources": {
            "http://localhost:8080/nbextensions/google.colab/files.js": {
              "data": "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",
              "ok": true,
              "headers": [
                [
                  "content-type",
                  "application/javascript"
                ]
              ],
              "status": 200,
              "status_text": ""
            }
          },
          "base_uri": "https://localhost:8080/",
          "height": 74
        },
        "id": "L8UOTUt75B9i",
        "outputId": "75448bcf-6da7-4bca-d09b-96cbe1de63e2"
      },
      "outputs": [
        {
          "output_type": "display_data",
          "data": {
            "text/plain": [
              "<IPython.core.display.HTML object>"
            ],
            "text/html": [
              "\n",
              "     <input type=\"file\" id=\"files-709afc3c-d325-4a22-9915-e924a1abe065\" name=\"files[]\" multiple disabled\n",
              "        style=\"border:none\" />\n",
              "     <output id=\"result-709afc3c-d325-4a22-9915-e924a1abe065\">\n",
              "      Upload widget is only available when the cell has been executed in the\n",
              "      current browser session. Please rerun this cell to enable.\n",
              "      </output>\n",
              "      <script src=\"/nbextensions/google.colab/files.js\"></script> "
            ]
          },
          "metadata": {}
        },
        {
          "output_type": "stream",
          "name": "stdout",
          "text": [
            "Saving CarPrice_Assignment.csv to CarPrice_Assignment.csv\n"
          ]
        }
      ],
      "source": [
        "from google.colab import files\n",
        " \n",
        " \n",
        "uploaded = files.upload()"
      ]
    },
    {
      "cell_type": "code",
      "source": [
        "import numpy as np\n",
        "import matplotlib.pyplot as plt\n",
        "\n",
        "\n",
        "import pandas as pd\n",
        "\n",
        "df = pd.read_csv(\"CarPrice_Assignment.csv\")\n",
        "s = len(df)\n",
        "t = df.loc[1:0.8*s,:]\n",
        "t1=df.loc[0.8*s:s,:]\n",
        "a = df['carlength']\n",
        "b = df['carwidth']\n",
        "c = df['carheight']\n",
        "d = df['enginesize']\n",
        "e = df['stroke']\n",
        "f = df['horsepower']\n",
        "y = df['price']\n"
      ],
      "metadata": {
        "id": "XnquQb5FNcdo"
      },
      "execution_count": 2,
      "outputs": []
    },
    {
      "cell_type": "code",
      "source": [
        "def grad_fun1(w1, w2, w3, w4, w5, w6):\n",
        "    k = 0.0\n",
        "    for i in range (1, int(0.8*s)):\n",
        "        k += (w1*a[i] + w2*b[i] + w3*c[i] + w4*d[i] + w5*e[i] + w6*f[i]  - y[i])*a[i]\n",
        "    return k/(int(0.8*s))\n",
        "def grad_fun2(w1, w2, w3, w4, w5, w6):\n",
        "    k = 0.0\n",
        "    for i in range (1, int(0.8*s)):\n",
        "        k += (w1*a[i] + w2*b[i] + w3*c[i] + w4*d[i] + w5*e[i] + w6*f[i]  - y[i])*b[i]\n",
        "    return k/(int(0.8*s))\n",
        "def grad_fun3(w1, w2, w3, w4, w5, w6):\n",
        "    k = 0.0\n",
        "    for i in range (1, int(0.8*s)):\n",
        "        k += (w1*a[i] + w2*b[i] + w3*c[i] + w4*d[i] + w5*e[i] + w6*f[i]  - y[i])*c[i]\n",
        "    return k/(int(0.8*s))\n",
        "def grad_fun4(w1, w2, w3, w4, w5, w6):\n",
        "    k = 0.0\n",
        "    for i in range (1, int(0.8*s)):\n",
        "        k += (w1*a[i] + w2*b[i] + w3*c[i] + w4*d[i] + w5*e[i] + w6*f[i]  - y[i])*d[i]\n",
        "    return k/(int(0.8*s))\n",
        "def grad_fun5(w1, w2, w3, w4, w5, w6):\n",
        "    k = 0.0\n",
        "    for i in range (1, int(0.8*s)):\n",
        "        k += (w1*a[i] + w2*b[i] + w3*c[i] + w4*d[i] + w5*e[i] + w6*f[i]  - y[i])*e[i]\n",
        "    return k/(int(0.8*s))\n",
        "def grad_fun6(w1, w2, w3, w4, w5, w6):\n",
        "    k = 0.0\n",
        "    for i in range (1, int(0.8*s)):\n",
        "        k += (w1*a[i] + w2*b[i] + w3*c[i] + w4*d[i] + w5*e[i] + w6*f[i]  - y[i])*f[i]\n",
        "    return k/(int(0.8*s))"
      ],
      "metadata": {
        "id": "ERH1T91MOGrF"
      },
      "execution_count": 6,
      "outputs": []
    },
    {
      "cell_type": "code",
      "source": [
        "x = 0.0001\n",
        "w1 = 0.5\n",
        "w2 = 0.5\n",
        "w3 = 0.5\n",
        "w4 = 0.5\n",
        "w5 = 0.5\n",
        "w6 = 0.5\n",
        "\n",
        "\n",
        "for i in range (1, 2600):\n",
        "    w1 = w1 - x*grad_fun1(w1, w2, w3, w4, w5, w6)\n",
        "    w2 = w2 - x*grad_fun2(w1, w2, w3, w4, w5, w6)\n",
        "    w3 = w3 - x*grad_fun3(w1, w2, w3, w4, w5, w6)\n",
        "    w4 = w4 - x*grad_fun4(w1, w2, w3, w4, w5, w6)\n",
        "    w5 = w5 - x*grad_fun5(w1, w2, w3, w4, w5, w6)\n",
        "    w6 = w6 - x*grad_fun6(w1, w2, w3, w4, w5, w6)\n",
        "    "
      ],
      "metadata": {
        "id": "bChO-10WO1E1"
      },
      "execution_count": 19,
      "outputs": []
    },
    {
      "cell_type": "code",
      "source": [
        "for i in range (165, 205):\n",
        "    pred = w1*a[i] + w2*b[i] + w3*c[i] + w4*d[i] + w5*e[i] + w6*f[i] \n",
        "    print(\"Actual price is \", y[i], \"  Predicted price is \", pred)\n",
        "    q = abs(pred - y[i])\n",
        "    p = 100 - (100*q/y[i])\n",
        "    print(\"accuracy is\" + str(p) + \"%\")"
      ],
      "metadata": {
        "colab": {
          "base_uri": "https://localhost:8080/"
        },
        "id": "hkrFkhn5Q63J",
        "outputId": "1ae70424-2bc0-4bda-8c85-d08d7f88e5a5"
      },
      "execution_count": 20,
      "outputs": [
        {
          "output_type": "stream",
          "name": "stdout",
          "text": [
            "Actual price is  9298.0   Predicted price is  11073.318744483433\n",
            "accuracy is80.90644499372517%\n",
            "Actual price is  9538.0   Predicted price is  11073.318744483433\n",
            "accuracy is83.90313750803698%\n",
            "Actual price is  8449.0   Predicted price is  16972.6039188406\n",
            "accuracy is-0.8829911094875058%\n",
            "Actual price is  9639.0   Predicted price is  16972.6039188406\n",
            "accuracy is23.91737816328873%\n",
            "Actual price is  9989.0   Predicted price is  16972.6039188406\n",
            "accuracy is30.087056573825222%\n",
            "Actual price is  11199.0   Predicted price is  16972.6039188406\n",
            "accuracy is48.44536191766587%\n",
            "Actual price is  11549.0   Predicted price is  16972.6039188406\n",
            "accuracy is53.038324367126165%\n",
            "Actual price is  17669.0   Predicted price is  16895.088627810437\n",
            "accuracy is95.61994808880206%\n",
            "Actual price is  8948.0   Predicted price is  12113.630628475563\n",
            "accuracy is64.62191966388508%\n",
            "Actual price is  10698.0   Predicted price is  9538.249129320691\n",
            "accuracy is89.15918049467837%\n",
            "Actual price is  9988.0   Predicted price is  12191.145919505721\n",
            "accuracy is77.94207129049137%\n",
            "Actual price is  10898.0   Predicted price is  12113.630628475563\n",
            "accuracy is88.84537870732646%\n",
            "Actual price is  11248.0   Predicted price is  12191.145919505721\n",
            "accuracy is91.61499004706862%\n",
            "Actual price is  16558.0   Predicted price is  22845.545378400646\n",
            "accuracy is62.0271447131257%\n",
            "Actual price is  15998.0   Predicted price is  22845.545378400646\n",
            "accuracy is57.197491071379886%\n",
            "Actual price is  15690.0   Predicted price is  23257.03442747535\n",
            "accuracy is51.77160976752484%\n",
            "Actual price is  15750.0   Predicted price is  22149.194642860268\n",
            "accuracy is59.37019274374433%\n",
            "Actual price is  7775.0   Predicted price is  6539.984606191507\n",
            "accuracy is84.11555763590363%\n",
            "Actual price is  7975.0   Predicted price is  10058.838987707375\n",
            "accuracy is73.87035752091066%\n",
            "Actual price is  7995.0   Predicted price is  6539.984606191507\n",
            "accuracy is81.80093316061922%\n",
            "Actual price is  8195.0   Predicted price is  10058.838987707375\n",
            "accuracy is77.25638819149023%\n",
            "Actual price is  8495.0   Predicted price is  10058.838987707375\n",
            "accuracy is81.5910654772528%\n",
            "Actual price is  9495.0   Predicted price is  7601.534492241333\n",
            "accuracy is80.05828849121994%\n",
            "Actual price is  9995.0   Predicted price is  11054.042005879088\n",
            "accuracy is89.40428208225025%\n",
            "Actual price is  11595.0   Predicted price is  9433.278746632677\n",
            "accuracy is81.35643593473633%\n",
            "Actual price is  9980.0   Predicted price is  10558.377598331332\n",
            "accuracy is94.20463328325319%\n",
            "Actual price is  13295.0   Predicted price is  15240.58802002245\n",
            "accuracy is85.36601714913539%\n",
            "Actual price is  13845.0   Predicted price is  8133.444409142821\n",
            "accuracy is58.746438491461326%\n",
            "Actual price is  12290.0   Predicted price is  11120.712869010064\n",
            "accuracy is90.48586549235202%\n",
            "Actual price is  12940.0   Predicted price is  16871.38852941652\n",
            "accuracy is69.6183266660238%\n",
            "Actual price is  13415.0   Predicted price is  16770.618651077315\n",
            "accuracy is74.98607043550268%\n",
            "Actual price is  15985.0   Predicted price is  16871.38852941652\n",
            "accuracy is94.45487313471054%\n",
            "Actual price is  16515.0   Predicted price is  16770.618651077315\n",
            "accuracy is98.45220314212949%\n",
            "Actual price is  18420.0   Predicted price is  18837.41442448941\n",
            "accuracy is97.7339064902855%\n",
            "Actual price is  18950.0   Predicted price is  18736.6445461502\n",
            "accuracy is98.87411370000106%\n",
            "Actual price is  16845.0   Predicted price is  16337.27068544702\n",
            "accuracy is96.98587524753351%\n",
            "Actual price is  19045.0   Predicted price is  19423.837110645603\n",
            "accuracy is98.01083165846362%\n",
            "Actual price is  21485.0   Predicted price is  21230.83580103479\n",
            "accuracy is98.81701559709002%\n",
            "Actual price is  22470.0   Predicted price is  16230.399114074196\n",
            "accuracy is72.23141572796705%\n",
            "Actual price is  22625.0   Predicted price is  16337.27068544702\n",
            "accuracy is72.20893120639568%\n"
          ]
        }
      ]
    },
    {
      "cell_type": "code",
      "source": [
        ""
      ],
      "metadata": {
        "id": "F62xsUjqRnTc"
      },
      "execution_count": null,
      "outputs": []
    }
  ]
}